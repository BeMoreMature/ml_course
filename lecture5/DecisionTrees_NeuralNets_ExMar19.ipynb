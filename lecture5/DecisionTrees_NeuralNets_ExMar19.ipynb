{
 "cells": [
  {
   "cell_type": "markdown",
   "metadata": {},
   "source": [
    "# Exercise: Decision Trees, Combining Methods, Neural Networks\n",
    "\n",
    "In this exercise we will use decision trees and neural networks for classification of Iris species (Setosa, Versicolor, Virginica). For use random_state=0 for splitting and building all models.\n",
    "\n",
    "1) Fit decision tree with maximum depth (max_depth) of 2 and the default gini index for building the tree. Find the classification accuracy. \n",
    "You can visualize the tree using:\n",
    "\n",
    "       from sklearn.tree import export_graphviz\n",
    "\n",
    "       import graphviz \n",
    "\n",
    "       dot_data=export_graphviz(FittedTreeModel,class_names=iris_dataset.target_names,    feature_names=iris_dataset.feature_names,out_file=None)\n",
    "\n",
    "       graph = graphviz.Source(dot_data)  \n",
    "\n",
    "       graph \n",
    "\n",
    "2) Use random forests that combines 4 trees, each of maximum depth 2 and maximum number of features considered at each split is 2. What is the classification accuracy?\n",
    "\n",
    "3) Use AdaBoost with 4 trees to perform the classification. What is the accuracy? Comment on results\n",
    "\n",
    "4) Scale the feautures with MinMaxScaler and use neural networks (MLPClassifier). Build a model that has two hidden layers, the first layer has 10 neurons and second layer has 5 neurons. Use 'relu' activation function, and set the regularization parameter alpha=0.5. \n",
    "\n",
    "    a) Use gradient descent to solve the optimization  problem (i.e. get the weights), and choose random_state=0 (which corresponds to a particular initializationo of weight values). Print the accuracy.\n",
    "    \n",
    "    b) Repeat (a) but with a model that use random_state=10 to initialize the weights. Print the accuracy.\n",
    "    \n",
    "    \n",
    "    b) Repeat (b) but with model that use L-BFGS (a numerical quasi-Newton method) instead of stochastic gradient descent to find the weights. Print the accuracy\n",
    "    \n",
    "    Comment on results\n",
    "\n",
    "\n",
    "\n"
   ]
  },
  {
   "cell_type": "code",
   "execution_count": null,
   "metadata": {
    "collapsed": true
   },
   "outputs": [],
   "source": [
    "%matplotlib inline\n",
    "from sklearn.datasets import load_iris\n",
    "import numpy as np\n",
    "from sklearn.preprocessing import MinMaxScaler \n",
    "from sklearn.model_selection import train_test_split\n",
    "from sklearn.tree import DecisionTreeClassifier\n",
    "from sklearn.ensemble import RandomForestClassifier\n",
    "from sklearn.ensemble import AdaBoostClassifier\n",
    "from sklearn.neural_network import MLPClassifier\n"
   ]
  }
 ],
 "metadata": {
  "kernelspec": {
   "display_name": "Python 3",
   "language": "python",
   "name": "python3"
  },
  "language_info": {
   "codemirror_mode": {
    "name": "ipython",
    "version": 3
   },
   "file_extension": ".py",
   "mimetype": "text/x-python",
   "name": "python",
   "nbconvert_exporter": "python",
   "pygments_lexer": "ipython3",
   "version": "3.6.1"
  }
 },
 "nbformat": 4,
 "nbformat_minor": 2
}
