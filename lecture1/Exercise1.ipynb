{
 "cells": [
  {
   "attachments": {},
   "cell_type": "markdown",
   "metadata": {},
   "source": [
    "# Exercise 1\n",
    "A)\n",
    "\n",
    "1. Create a dictionary of score of each team. That is keys:values are\n",
    "Team1: 4,\n",
    "Team2: 3,\n",
    "Team3: 5,\n",
    "Team4: 2\n",
    "\n",
    "2. Add to the dictionary ‘Team5’ who has a score ‘5’ \n",
    "\n",
    "3. PRINT all the keys of the dictionary using the keys() method\n",
    "\n",
    "4. Find the length VALUES in the dictionary (use the len function) and print it\n",
    "\n",
    "5. Get the average score of the teams and print it (use the sum and len functions)\n"
   ]
  },
  {
   "cell_type": "code",
   "execution_count": null,
   "metadata": {
    "collapsed": true
   },
   "outputs": [],
   "source": []
  },
  {
   "attachments": {},
   "cell_type": "markdown",
   "metadata": {},
   "source": [
    "B) \n",
    "1. Generate a numpy array with 2 columns, where first column contains numbers from 0 to 5 and second column is [0, 1, 4, 9, 16, 25]\n",
    "\n",
    "2. Check the shape of your array. It should be 6x2.\n",
    "\n",
    "3. Put the array into a data frame, with column labels ‘x’ and ‘y’ \n",
    "\n",
    "4. Plot ‘x’ versus ‘y’ \n",
    "\n",
    "5. Get average of elements in second column of the data frame\n"
   ]
  },
  {
   "cell_type": "code",
   "execution_count": null,
   "metadata": {
    "collapsed": true
   },
   "outputs": [],
   "source": [
    "%matplotlib notebook\n",
    "import matplotlib.pyplot as plt\n",
    "import pandas as pd\n",
    "import numpy as np \n"
   ]
  }
 ],
 "metadata": {
  "kernelspec": {
   "display_name": "Python 3",
   "language": "python",
   "name": "python3"
  },
  "language_info": {
   "codemirror_mode": {
    "name": "ipython",
    "version": 3
   },
   "file_extension": ".py",
   "mimetype": "text/x-python",
   "name": "python",
   "nbconvert_exporter": "python",
   "pygments_lexer": "ipython3",
   "version": "3.6.1"
  }
 },
 "nbformat": 4,
 "nbformat_minor": 2
}
