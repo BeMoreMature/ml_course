{
 "cells": [
  {
   "cell_type": "markdown",
   "metadata": {},
   "source": [
    "# Exercise 2\n",
    "\n",
    "In this exercise we implement the KNN for classification of the Iris dataset\n",
    "\n",
    "First, read the keys or the Iris datset"
   ]
  },
  {
   "cell_type": "code",
   "execution_count": 1,
   "metadata": {},
   "outputs": [
    {
     "name": "stdout",
     "output_type": "stream",
     "text": [
      "Keys of the iris_dataset is: dict_keys(['data', 'target', 'target_names', 'DESCR', 'feature_names'])\n"
     ]
    }
   ],
   "source": [
    "from sklearn.datasets import load_iris\n",
    "iris_dataset=load_iris() #creates an object that contains the iris dataset\n",
    "print('Keys of the iris_dataset is:', iris_dataset.keys())"
   ]
  },
  {
   "cell_type": "raw",
   "metadata": {},
   "source": [
    "Print and read the description of dataset by running the following"
   ]
  },
  {
   "cell_type": "code",
   "execution_count": 2,
   "metadata": {},
   "outputs": [
    {
     "name": "stdout",
     "output_type": "stream",
     "text": [
      "type of data is  <class 'numpy.ndarray'>\n",
      "\n",
      "shape of data is  (150, 4)\n",
      "\n",
      "first five rows of data is  [[ 5.1  3.5  1.4  0.2]\n",
      " [ 4.9  3.   1.4  0.2]\n",
      " [ 4.7  3.2  1.3  0.2]\n",
      " [ 4.6  3.1  1.5  0.2]\n",
      " [ 5.   3.6  1.4  0.2]]\n",
      "\n",
      "Iris Plants Database\n",
      "====================\n",
      "\n",
      "Notes\n",
      "-----\n",
      "Data Set Characteristics:\n",
      "    :Number of Instances: 150 (50 in each of three classes)\n",
      "    :Number of Attributes: 4 numeric, predictive attributes and the class\n",
      "    :Attribute Information:\n",
      "        - sepal length in cm\n",
      "        - sepal width in cm\n",
      "        - petal length in cm\n",
      "        - petal width in cm\n",
      "        - class:\n",
      "                - Iris-Setosa\n",
      "                - Iris-Versicolour\n",
      "                - Iris-Virginica\n",
      "    :Summary Statistics:\n",
      "\n",
      "    ============== ==== ==== ======= ===== ====================\n",
      "                    Min  Max   Mean    SD   Class Correlation\n",
      "    ============== ==== ==== ======= ===== ====================\n",
      "    sepal length:   4.3  7.9   5.84   0.83    0.7826\n",
      "    sepal width:    2.0  4.4   3.05   0.43   -0.4194\n",
      "    petal length:   1.0  6.9   3.76   1.76    0.9490  (high!)\n",
      "    petal width:    0.1  2.5   1.20  0.76     0.9565  (high!)\n",
      "    ============== ==== ==== ======= ===== ====================\n",
      "\n",
      "    :Missing Attribute Values: None\n",
      "    :Class Distribution: 33.3% for each of 3 classes.\n",
      "    :Creator: R.A. Fisher\n",
      "    :Donor: Michael Marshall (MARSHALL%PLU@io.arc.nasa.gov)\n",
      "    :Date: July, 1988\n",
      "\n",
      "This is a copy of UCI ML iris datasets.\n",
      "http://archive.ics.uci.edu/ml/datasets/Iris\n",
      "\n",
      "The famous Iris database, first used by Sir R.A Fisher\n",
      "\n",
      "This is perhaps the best known database to be found in the\n",
      "pattern recognition literature.  Fisher's paper is a classic in the field and\n",
      "is referenced frequently to this day.  (See Duda & Hart, for example.)  The\n",
      "data set contains 3 classes of 50 instances each, where each class refers to a\n",
      "type of iris plant.  One class is linearly separable from the other 2; the\n",
      "latter are NOT linearly separable from each other.\n",
      "\n",
      "References\n",
      "----------\n",
      "   - Fisher,R.A. \"The use of multiple measurements in taxonomic problems\"\n",
      "     Annual Eugenics, 7, Part II, 179-188 (1936); also in \"Contributions to\n",
      "     Mathematical Statistics\" (John Wiley, NY, 1950).\n",
      "   - Duda,R.O., & Hart,P.E. (1973) Pattern Classification and Scene Analysis.\n",
      "     (Q327.D83) John Wiley & Sons.  ISBN 0-471-22361-1.  See page 218.\n",
      "   - Dasarathy, B.V. (1980) \"Nosing Around the Neighborhood: A New System\n",
      "     Structure and Classification Rule for Recognition in Partially Exposed\n",
      "     Environments\".  IEEE Transactions on Pattern Analysis and Machine\n",
      "     Intelligence, Vol. PAMI-2, No. 1, 67-71.\n",
      "   - Gates, G.W. (1972) \"The Reduced Nearest Neighbor Rule\".  IEEE Transactions\n",
      "     on Information Theory, May 1972, 431-433.\n",
      "   - See also: 1988 MLC Proceedings, 54-64.  Cheeseman et al\"s AUTOCLASS II\n",
      "     conceptual clustering system finds 3 classes in the data.\n",
      "   - Many, many more ...\n",
      "\n"
     ]
    }
   ],
   "source": [
    "print(\"type of data is \",type(iris_dataset.data))\n",
    "print()\n",
    "print(\"shape of data is \",iris_dataset.data.shape)\n",
    "print()\n",
    "print(\"first five rows of data is \",iris_dataset['data'][:5])\n",
    "print()\n",
    "print(iris_dataset.DESCR)\n"
   ]
  },
  {
   "cell_type": "markdown",
   "metadata": {},
   "source": [
    "A) Classify the Iris species with KNN approach using the first two feature only (X_train[:, : 2], X_test[:, : 2]), and check the accuracy as K changes. Let K takes the values [1, 5, 10, 15]. No need to scale features.\n",
    "In the code, use random_state=100 in train_test_split \n",
    "Plot the accuracy and comment on your result"
   ]
  },
  {
   "cell_type": "code",
   "execution_count": 17,
   "metadata": {},
   "outputs": [
    {
     "name": "stdout",
     "output_type": "stream",
     "text": [
      "When k= 1  Accuracy is  0.736842105263 \n",
      "\n",
      "When k= 5 Accuracy is  0.842105263158 \n",
      "\n",
      "When k= 10 Accuracy is  0.842105263158 \n",
      "\n",
      "When k= 15 Accuracy is  0.763157894737 \n",
      "\n",
      "When k=1, it is so simple that underfitting When k=15, it is so complicate that overfitting,So k=5,10 is better choice\n",
      "\n",
      "Prediction is: [0] \n",
      "\n",
      "The prediction is: ['setosa']\n"
     ]
    },
    {
     "data": {
      "image/png": "[encoded data removed]",
      "text/plain": [
       "<matplotlib.figure.Figure at 0x15807cdc7b8>"
      ]
     },
     "metadata": {},
     "output_type": "display_data"
    }
   ],
   "source": [
    "%matplotlib inline\n",
    "import matplotlib.pyplot as plt\n",
    "import pandas as pd\n",
    "from sklearn.neighbors import KNeighborsClassifier \n",
    "import numpy as np\n",
    "from sklearn.model_selection import train_test_split\n",
    "from sklearn import preprocessing\n",
    "\n",
    "\n",
    "test_accuracy=[] # you can use the .append to test_accuracy to store the result\n",
    "X_train, X_test, Y_train, Y_test = train_test_split(iris_dataset['data'],iris_dataset['target'],random_state=100)\n",
    "\n",
    "#complete your code here\n",
    "# iris_dataFrame=pd.DataFrame(X_train[:,:2],columns=iris_dataset.feature_names[:2])\n",
    "# sm=pd.plotting.scatter_matrix(iris_dataFrame,c=Y_train,figsize=(15,15))\n",
    "\n",
    "k=1\n",
    "knn=KNeighborsClassifier(n_neighbors=k)\n",
    "knn.fit(X_train[:,:2], Y_train)\n",
    "Accuracy=knn.score(X_test[:,:2], Y_test)\n",
    "test_accuracy.append(Accuracy)\n",
    "print(\"When k=\",k,\" Accuracy is \",Accuracy,'\\n') \n",
    "\n",
    "k=5\n",
    "knn=KNeighborsClassifier(n_neighbors=k)\n",
    "knn.fit(X_train[:,:2], Y_train)\n",
    "Accuracy=knn.score(X_test[:,:2], Y_test)\n",
    "test_accuracy.append(Accuracy)\n",
    "print(\"When k=\",k,\"Accuracy is \",Accuracy,'\\n')\n",
    "\n",
    "k=10\n",
    "knn=KNeighborsClassifier(n_neighbors=k)\n",
    "knn.fit(X_train[:,:2], Y_train)\n",
    "Accuracy=knn.score(X_test[:,:2], Y_test)\n",
    "test_accuracy.append(Accuracy)\n",
    "print(\"When k=\",k,\"Accuracy is \",Accuracy,'\\n')\n",
    "\n",
    "k=15\n",
    "knn=KNeighborsClassifier(n_neighbors=k)\n",
    "knn.fit(X_train[:,:2], Y_train)\n",
    "Accuracy=knn.score(X_test[:,:2], Y_test)\n",
    "test_accuracy.append(Accuracy)\n",
    "print(\"When k=\",k,\"Accuracy is \",Accuracy,'\\n') \n",
    "\n",
    "print(\"When k=1, it is so simple that underfitting When k=15, it is so complicate that overfitting,So k=5,10 is better choice\\n\")\n",
    "plt.plot([1,5,10,15],test_accuracy)\n",
    "plt.xlabel('K')\n",
    "plt.ylabel('Accuracy')\n",
    "plt.title('KNN test accuracy')\n",
    "\n",
    "X_new=np.array([[5,2.9,1,0.2]])\n",
    "X_new.shape\n",
    "knn.fit(X_train,Y_train)\n",
    "prediction=knn.predict(X_new)\n",
    "\n",
    "print('Prediction is:',prediction,'\\n')# this is number 0 or 1 or 2 (corresponding to a particular species). \\n is for new line\n",
    "print('The prediction is:', iris_dataset['target_names'][prediction]) # this prints the name of this species\n"
   ]
  },
  {
   "cell_type": "markdown",
   "metadata": {},
   "source": [
    "B) Use the Iris example, and find the accuracy of the KNN approach with K=5 when different number of features is used without scaling. \n",
    "Hint: To use N_features only from training data use: X_train[:, : N_features ]\n",
    "Write down the accuracy when using one, two, three, and the four features\n",
    "\n",
    "C) Repeat B when feature scaling with MinMaxScaler is used\n"
   ]
  },
  {
   "cell_type": "code",
   "execution_count": 38,
   "metadata": {
    "collapsed": true
   },
   "outputs": [],
   "source": [
    "# You can write you code here\n",
    "\n"
   ]
  },
  {
   "cell_type": "code",
   "execution_count": null,
   "metadata": {
    "collapsed": true
   },
   "outputs": [],
   "source": []
  },
  {
   "cell_type": "code",
   "execution_count": null,
   "metadata": {
    "collapsed": true
   },
   "outputs": [],
   "source": []
  }
 ],
 "metadata": {
  "kernelspec": {
   "display_name": "Python 3",
   "language": "python",
   "name": "python3"
  },
  "language_info": {
   "codemirror_mode": {
    "name": "ipython",
    "version": 3
   },
   "file_extension": ".py",
   "mimetype": "text/x-python",
   "name": "python",
   "nbconvert_exporter": "python",
   "pygments_lexer": "ipython3",
   "version": "3.6.3"
  }
 },
 "nbformat": 4,
 "nbformat_minor": 2
}
