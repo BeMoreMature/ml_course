{
 "cells": [
  {
   "cell_type": "markdown",
   "metadata": {},
   "source": [
    "# Exercise: Polynomial Regression and KNN\n"
   ]
  },
  {
   "cell_type": "markdown",
   "metadata": {},
   "source": [
    "A) Use the Auto dataset, find the $R^2$ score of a linear regression model that predicts the miles per gallon (mpg) from the horsepower.\n",
    "\n",
    "Hints:\n",
    "\n",
    "    Create model object using: model=LinearRegression()\n",
    "\n",
    "    Fit the model: fitted_model=model.fit(X_train,Y_train)\n",
    "\n",
    "    Find the R squared metric using: fitted_model.score(X_test,Y_test)\n"
   ]
  },
  {
   "cell_type": "code",
   "execution_count": 1,
   "metadata": {},
   "outputs": [
    {
     "data": {
      "text/plain": [
       "0.62176588113983833"
      ]
     },
     "execution_count": 1,
     "metadata": {},
     "output_type": "execute_result"
    },
    {
     "data": {
      "image/png": "[encoded data removed]",
      "text/plain": [
       "<matplotlib.figure.Figure at 0x1adee92af28>"
      ]
     },
     "metadata": {},
     "output_type": "display_data"
    }
   ],
   "source": [
    "%matplotlib inline\n",
    "import matplotlib.pyplot as plt\n",
    "from pandas import read_csv\n",
    "from sklearn.linear_model import LinearRegression\n",
    "from sklearn.model_selection import train_test_split\n",
    "import numpy as np\n",
    "\n",
    "AutoData=read_csv('C:\\\\Users\\\\Yuhao Wu\\\\Desktop\\\\machine learning\\\\lecture3\\\\Auto_modify.csv') # read the data\n",
    "\n",
    "X_auto_hp=AutoData.horsepower.values.reshape(-1,1) # define features: horsepower \n",
    "Y_auto_mpg=AutoData.mpg.values.reshape(-1,1) # define label: miles per gallon\n",
    "\n",
    "#ploting the data points\n",
    "plt.figure(figsize=(10,10))\n",
    "plt.scatter(X_auto_hp, Y_auto_mpg, marker= 'o')\n",
    "plt.xlabel('Horsepower (x)')\n",
    "plt.ylabel('Miles per gallon (y)')\n",
    "\n",
    "#Split to train and test\n",
    "X_train, X_test, Y_train, Y_test= train_test_split(X_auto_hp, Y_auto_mpg, random_state= 0)\n",
    "\n",
    "# continue your code here\n",
    "model=LinearRegression()\n",
    "fitted_model=model.fit(X_train,Y_train)\n",
    "fitted_model.score(X_test,Y_test)"
   ]
  },
  {
   "cell_type": "markdown",
   "metadata": {},
   "source": [
    "B) Use polynomial regression to include both the horsepower feature and $(horsepower)^2$ in the regression model. Find the $R^2$ metric. \n",
    "\n",
    "Hint: You can use [numpy.concatenate](https://docs.scipy.org/doc/numpy-1.13.0/reference/generated/numpy.concatenate.html). For example to add to an array U a column vector $W^2$, we can use X=np.concatenate((U,W**2),axis=1)\n",
    "\n",
    "\n",
    "C) Optional: repeat (B) increase the degree of the polynomial to 3,then 4, then 5 and check the accuracy in each case.\n"
   ]
  },
  {
   "cell_type": "code",
   "execution_count": 2,
   "metadata": {},
   "outputs": [
    {
     "data": {
      "text/plain": [
       "0.72710315046420038"
      ]
     },
     "execution_count": 2,
     "metadata": {},
     "output_type": "execute_result"
    }
   ],
   "source": [
    "# the degree of polynomial is 2\n",
    "X2=np.concatenate((X_auto_hp,X_auto_hp**2),axis=1)\n",
    "\n",
    "X_train, X_test, Y_train, Y_test= train_test_split(X2, Y_auto_mpg, random_state= 0)\n",
    "model=LinearRegression();\n",
    "fitted_model=model.fit(X_train,Y_train)\n",
    "fitted_model.score(X_test,Y_test)"
   ]
  },
  {
   "cell_type": "code",
   "execution_count": 3,
   "metadata": {},
   "outputs": [
    {
     "data": {
      "text/plain": [
       "0.72823886011930639"
      ]
     },
     "execution_count": 3,
     "metadata": {},
     "output_type": "execute_result"
    }
   ],
   "source": [
    "# the degree of polynomial is 3\n",
    "X3=np.concatenate((X2,X_auto_hp**3),axis=1)\n",
    "\n",
    "X_train, X_test, Y_train, Y_test= train_test_split(X3, Y_auto_mpg, random_state= 0)\n",
    "model=LinearRegression();\n",
    "fitted_model=model.fit(X_train,Y_train)\n",
    "fitted_model.score(X_test,Y_test)"
   ]
  },
  {
   "cell_type": "code",
   "execution_count": 4,
   "metadata": {},
   "outputs": [
    {
     "data": {
      "text/plain": [
       "0.72957475825818985"
      ]
     },
     "execution_count": 4,
     "metadata": {},
     "output_type": "execute_result"
    }
   ],
   "source": [
    "# the degree of polynomial is 4\n",
    "X4=np.concatenate((X3,X_auto_hp**4),axis=1)\n",
    "\n",
    "X_train, X_test, Y_train, Y_test= train_test_split(X4, Y_auto_mpg, random_state= 0)\n",
    "model=LinearRegression();\n",
    "fitted_model=model.fit(X_train,Y_train)\n",
    "fitted_model.score(X_test,Y_test)"
   ]
  },
  {
   "cell_type": "code",
   "execution_count": 5,
   "metadata": {},
   "outputs": [
    {
     "data": {
      "text/plain": [
       "0.73205111933002276"
      ]
     },
     "execution_count": 5,
     "metadata": {},
     "output_type": "execute_result"
    }
   ],
   "source": [
    "# the degree of polynomial is 5\n",
    "X5=np.concatenate((X4,X_auto_hp**5),axis=1)\n",
    "\n",
    "X_train, X_test, Y_train, Y_test= train_test_split(X5, Y_auto_mpg, random_state= 0)\n",
    "model=LinearRegression();\n",
    "fitted_model=model.fit(X_train,Y_train)\n",
    "fitted_model.score(X_test,Y_test)"
   ]
  },
  {
   "cell_type": "markdown",
   "metadata": {},
   "source": [
    "D) Use KNN regression to predict the miles per gallon(mpg) with K=7, and find $R^2$ metric in the following cases \n",
    "\n",
    "- One feature: Horsepower only\n",
    "\n",
    "- Two features: horsepower and (horsepower)2 \n",
    "\n",
    "Hint: \n",
    "\n",
    "    Create KNN regression object using neighbors.KNeighborsRegressor:\n",
    "\n",
    "    knnRegression = neighbors.KNeighborsRegressor(n_neighbors=7)\n",
    "\n",
    "    Use the .fit and .score methods as before\n",
    "\n",
    "E) COMMENT on your results: which model performs better? How does performance change when adding the quadratic feature?\n"
   ]
  },
  {
   "cell_type": "code",
   "execution_count": 6,
   "metadata": {},
   "outputs": [
    {
     "data": {
      "text/plain": [
       "0.66747774417142258"
      ]
     },
     "execution_count": 6,
     "metadata": {},
     "output_type": "execute_result"
    }
   ],
   "source": [
    "from sklearn import neighbors\n",
    "# add you code here \n",
    "X_auto_hp=AutoData.horsepower.values.reshape(-1,1) \n",
    "Y_auto_mpg=AutoData.mpg.values.reshape(-1,1)\n",
    "X_train, X_test, Y_train, Y_test= train_test_split(X_auto_hp, Y_auto_mpg, random_state= 0)\n",
    "knnRegression=neighbors.KNeighborsRegressor(n_neighbors=7)\n",
    "fitted_model=knnRegression.fit(X_train,Y_train)\n",
    "fitted_model.score(X_test,Y_test)"
   ]
  },
  {
   "cell_type": "code",
   "execution_count": 7,
   "metadata": {},
   "outputs": [
    {
     "data": {
      "text/plain": [
       "0.67010840488238532"
      ]
     },
     "execution_count": 7,
     "metadata": {},
     "output_type": "execute_result"
    }
   ],
   "source": [
    "X2=np.concatenate((X_auto_hp,X_auto_hp**2),axis=1)\n",
    "X_train, X_test, Y_train, Y_test= train_test_split(X2, Y_auto_mpg, random_state= 0)\n",
    "knnRegression=neighbors.KNeighborsRegressor(n_neighbors=7)\n",
    "fitted_model=knnRegression.fit(X_train,Y_train)\n",
    "fitted_model.score(X_test,Y_test)"
   ]
  }
 ],
 "metadata": {
  "kernelspec": {
   "display_name": "Python 3",
   "language": "python",
   "name": "python3"
  },
  "language_info": {
   "codemirror_mode": {
    "name": "ipython",
    "version": 3
   },
   "file_extension": ".py",
   "mimetype": "text/x-python",
   "name": "python",
   "nbconvert_exporter": "python",
   "pygments_lexer": "ipython3",
   "version": "3.6.3"
  }
 },
 "nbformat": 4,
 "nbformat_minor": 2
}
